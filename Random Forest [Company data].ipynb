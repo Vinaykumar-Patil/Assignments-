{
 "cells": [
  {
   "cell_type": "markdown",
   "id": "6f9eeed8",
   "metadata": {},
   "source": [
    "# Random Forest :\n",
    " \n",
    "***Problem Statement :***\n",
    "- A cloth manufacturing company is interested to know about the segment or attributes causes high sale. \n",
    "- Approach : A Random Forest can be built with target variable Sales (we will first convert it in categorical variable) & all other variable will be independent in the analysis.  \n",
    "\n",
    "\n",
    "\n",
    "**About the data :**\n",
    "\n",
    "*Let’s consider a Company dataset with around 10 variables and 400 records.*\n",
    "- The attributes are as follows: \n",
    "    - Sales : Unit sales (in thousands) at each location\n",
    "    - Competitor Price : Price charged by competitor at each location\n",
    "    - Income : Community income level (in thousands of dollars)\n",
    "    - Advertising : Local advertising budget for company at each location (in thousands of dollars)\n",
    "    - Population : Population size in region (in thousands)\n",
    "    - Price : Price company charges for car seats at each site\n",
    "    - Shelf Location at stores : A factor with levels Bad, Good and Medium indicating the quality of the shelving location for the car seats at each site\n",
    "    - Age : Average age of the local population\n",
    "    - Education : Education level at each location\n",
    "    - Urban : A factor with levels No and Yes to indicate whether the store is in an urban or rural location\n",
    "    - US : A factor with levels No and Yes to indicate whether the store is in the US or not\n"
   ]
  },
  {
   "cell_type": "code",
   "execution_count": 27,
   "id": "0f6d741a",
   "metadata": {
    "ExecuteTime": {
     "end_time": "2023-01-31T14:35:13.656864Z",
     "start_time": "2023-01-31T14:35:13.646407Z"
    }
   },
   "outputs": [],
   "source": [
    "# Importing usefull libraries\n",
    "import pandas as pd\n",
    "import numpy as np\n",
    "import seaborn as sns\n",
    "import matplotlib.pyplot as plt\n",
    "%matplotlib inline\n",
    "import matplotlib.image as mpimg\n",
    "import pydotplus\n",
    "from sklearn import preprocessing, datasets, tree, externals\n",
    "from sklearn.model_selection import train_test_split\n",
    "from sklearn.preprocessing import OrdinalEncoder\n",
    "from sklearn.ensemble import RandomForestClassifier\n",
    "from sklearn.metrics import accuracy_score, classification_report, confusion_matrix \n",
    "from sklearn.metrics import precision_score, recall_score, f1_score\n",
    "from sklearn.tree import export_graphviz\n",
    "from io import StringIO\n",
    "\n",
    "# Ignoring anoying warnigs\n",
    "import warnings\n",
    "warnings.filterwarnings('ignore')"
   ]
  },
  {
   "cell_type": "code",
   "execution_count": 3,
   "id": "1d479f26",
   "metadata": {
    "ExecuteTime": {
     "end_time": "2023-01-31T14:29:23.947606Z",
     "start_time": "2023-01-31T14:29:23.901228Z"
    }
   },
   "outputs": [
    {
     "data": {
      "text/html": [
       "<div>\n",
       "<style scoped>\n",
       "    .dataframe tbody tr th:only-of-type {\n",
       "        vertical-align: middle;\n",
       "    }\n",
       "\n",
       "    .dataframe tbody tr th {\n",
       "        vertical-align: top;\n",
       "    }\n",
       "\n",
       "    .dataframe thead th {\n",
       "        text-align: right;\n",
       "    }\n",
       "</style>\n",
       "<table border=\"1\" class=\"dataframe\">\n",
       "  <thead>\n",
       "    <tr style=\"text-align: right;\">\n",
       "      <th></th>\n",
       "      <th>Sales</th>\n",
       "      <th>CompPrice</th>\n",
       "      <th>Income</th>\n",
       "      <th>Advertising</th>\n",
       "      <th>Population</th>\n",
       "      <th>Price</th>\n",
       "      <th>ShelveLoc</th>\n",
       "      <th>Age</th>\n",
       "      <th>Education</th>\n",
       "      <th>Urban</th>\n",
       "      <th>US</th>\n",
       "    </tr>\n",
       "  </thead>\n",
       "  <tbody>\n",
       "    <tr>\n",
       "      <th>0</th>\n",
       "      <td>9.50</td>\n",
       "      <td>138</td>\n",
       "      <td>73</td>\n",
       "      <td>11</td>\n",
       "      <td>276</td>\n",
       "      <td>120</td>\n",
       "      <td>Bad</td>\n",
       "      <td>42</td>\n",
       "      <td>17</td>\n",
       "      <td>Yes</td>\n",
       "      <td>Yes</td>\n",
       "    </tr>\n",
       "    <tr>\n",
       "      <th>1</th>\n",
       "      <td>11.22</td>\n",
       "      <td>111</td>\n",
       "      <td>48</td>\n",
       "      <td>16</td>\n",
       "      <td>260</td>\n",
       "      <td>83</td>\n",
       "      <td>Good</td>\n",
       "      <td>65</td>\n",
       "      <td>10</td>\n",
       "      <td>Yes</td>\n",
       "      <td>Yes</td>\n",
       "    </tr>\n",
       "    <tr>\n",
       "      <th>2</th>\n",
       "      <td>10.06</td>\n",
       "      <td>113</td>\n",
       "      <td>35</td>\n",
       "      <td>10</td>\n",
       "      <td>269</td>\n",
       "      <td>80</td>\n",
       "      <td>Medium</td>\n",
       "      <td>59</td>\n",
       "      <td>12</td>\n",
       "      <td>Yes</td>\n",
       "      <td>Yes</td>\n",
       "    </tr>\n",
       "    <tr>\n",
       "      <th>3</th>\n",
       "      <td>7.40</td>\n",
       "      <td>117</td>\n",
       "      <td>100</td>\n",
       "      <td>4</td>\n",
       "      <td>466</td>\n",
       "      <td>97</td>\n",
       "      <td>Medium</td>\n",
       "      <td>55</td>\n",
       "      <td>14</td>\n",
       "      <td>Yes</td>\n",
       "      <td>Yes</td>\n",
       "    </tr>\n",
       "    <tr>\n",
       "      <th>4</th>\n",
       "      <td>4.15</td>\n",
       "      <td>141</td>\n",
       "      <td>64</td>\n",
       "      <td>3</td>\n",
       "      <td>340</td>\n",
       "      <td>128</td>\n",
       "      <td>Bad</td>\n",
       "      <td>38</td>\n",
       "      <td>13</td>\n",
       "      <td>Yes</td>\n",
       "      <td>No</td>\n",
       "    </tr>\n",
       "  </tbody>\n",
       "</table>\n",
       "</div>"
      ],
      "text/plain": [
       "   Sales  CompPrice  Income  Advertising  Population  Price ShelveLoc  Age  \\\n",
       "0   9.50        138      73           11         276    120       Bad   42   \n",
       "1  11.22        111      48           16         260     83      Good   65   \n",
       "2  10.06        113      35           10         269     80    Medium   59   \n",
       "3   7.40        117     100            4         466     97    Medium   55   \n",
       "4   4.15        141      64            3         340    128       Bad   38   \n",
       "\n",
       "   Education Urban   US  \n",
       "0         17   Yes  Yes  \n",
       "1         10   Yes  Yes  \n",
       "2         12   Yes  Yes  \n",
       "3         14   Yes  Yes  \n",
       "4         13   Yes   No  "
      ]
     },
     "execution_count": 3,
     "metadata": {},
     "output_type": "execute_result"
    }
   ],
   "source": [
    "# Importing dataset\n",
    "df = pd.read_csv(\"Company_Data.csv\")\n",
    "\n",
    "# Showing first 5 rows from dataset\n",
    "df.head()"
   ]
  },
  {
   "cell_type": "code",
   "execution_count": 4,
   "id": "d76a5f0a",
   "metadata": {
    "ExecuteTime": {
     "end_time": "2023-01-31T14:29:26.095805Z",
     "start_time": "2023-01-31T14:29:26.065194Z"
    }
   },
   "outputs": [
    {
     "data": {
      "text/plain": [
       "(400, 11)"
      ]
     },
     "execution_count": 4,
     "metadata": {},
     "output_type": "execute_result"
    }
   ],
   "source": [
    "# Total rows & columns\n",
    "df.shape"
   ]
  },
  {
   "cell_type": "code",
   "execution_count": 5,
   "id": "f3265d5e",
   "metadata": {
    "ExecuteTime": {
     "end_time": "2023-01-31T14:29:27.693985Z",
     "start_time": "2023-01-31T14:29:27.683957Z"
    }
   },
   "outputs": [
    {
     "data": {
      "text/plain": [
       "False"
      ]
     },
     "execution_count": 5,
     "metadata": {},
     "output_type": "execute_result"
    }
   ],
   "source": [
    "# Looking for null values\n",
    "df.isnull().any().any()"
   ]
  },
  {
   "cell_type": "code",
   "execution_count": 6,
   "id": "0cca6ac1",
   "metadata": {
    "ExecuteTime": {
     "end_time": "2023-01-31T14:29:28.483120Z",
     "start_time": "2023-01-31T14:29:28.469804Z"
    }
   },
   "outputs": [
    {
     "name": "stdout",
     "output_type": "stream",
     "text": [
      "<class 'pandas.core.frame.DataFrame'>\n",
      "RangeIndex: 400 entries, 0 to 399\n",
      "Data columns (total 11 columns):\n",
      " #   Column       Non-Null Count  Dtype  \n",
      "---  ------       --------------  -----  \n",
      " 0   Sales        400 non-null    float64\n",
      " 1   CompPrice    400 non-null    int64  \n",
      " 2   Income       400 non-null    int64  \n",
      " 3   Advertising  400 non-null    int64  \n",
      " 4   Population   400 non-null    int64  \n",
      " 5   Price        400 non-null    int64  \n",
      " 6   ShelveLoc    400 non-null    object \n",
      " 7   Age          400 non-null    int64  \n",
      " 8   Education    400 non-null    int64  \n",
      " 9   Urban        400 non-null    object \n",
      " 10  US           400 non-null    object \n",
      "dtypes: float64(1), int64(7), object(3)\n",
      "memory usage: 34.5+ KB\n"
     ]
    }
   ],
   "source": [
    "# Information about dataset\n",
    "df.info()"
   ]
  },
  {
   "cell_type": "code",
   "execution_count": 7,
   "id": "079e7386",
   "metadata": {
    "ExecuteTime": {
     "end_time": "2023-01-31T14:29:29.593491Z",
     "start_time": "2023-01-31T14:29:29.574495Z"
    }
   },
   "outputs": [
    {
     "data": {
      "text/html": [
       "<div>\n",
       "<style scoped>\n",
       "    .dataframe tbody tr th:only-of-type {\n",
       "        vertical-align: middle;\n",
       "    }\n",
       "\n",
       "    .dataframe tbody tr th {\n",
       "        vertical-align: top;\n",
       "    }\n",
       "\n",
       "    .dataframe thead th {\n",
       "        text-align: right;\n",
       "    }\n",
       "</style>\n",
       "<table border=\"1\" class=\"dataframe\">\n",
       "  <thead>\n",
       "    <tr style=\"text-align: right;\">\n",
       "      <th></th>\n",
       "      <th>count</th>\n",
       "      <th>mean</th>\n",
       "      <th>std</th>\n",
       "      <th>min</th>\n",
       "      <th>25%</th>\n",
       "      <th>50%</th>\n",
       "      <th>75%</th>\n",
       "      <th>max</th>\n",
       "    </tr>\n",
       "  </thead>\n",
       "  <tbody>\n",
       "    <tr>\n",
       "      <th>Sales</th>\n",
       "      <td>400.0</td>\n",
       "      <td>7.496325</td>\n",
       "      <td>2.824115</td>\n",
       "      <td>0.0</td>\n",
       "      <td>5.39</td>\n",
       "      <td>7.49</td>\n",
       "      <td>9.32</td>\n",
       "      <td>16.27</td>\n",
       "    </tr>\n",
       "    <tr>\n",
       "      <th>CompPrice</th>\n",
       "      <td>400.0</td>\n",
       "      <td>124.975000</td>\n",
       "      <td>15.334512</td>\n",
       "      <td>77.0</td>\n",
       "      <td>115.00</td>\n",
       "      <td>125.00</td>\n",
       "      <td>135.00</td>\n",
       "      <td>175.00</td>\n",
       "    </tr>\n",
       "    <tr>\n",
       "      <th>Income</th>\n",
       "      <td>400.0</td>\n",
       "      <td>68.657500</td>\n",
       "      <td>27.986037</td>\n",
       "      <td>21.0</td>\n",
       "      <td>42.75</td>\n",
       "      <td>69.00</td>\n",
       "      <td>91.00</td>\n",
       "      <td>120.00</td>\n",
       "    </tr>\n",
       "    <tr>\n",
       "      <th>Advertising</th>\n",
       "      <td>400.0</td>\n",
       "      <td>6.635000</td>\n",
       "      <td>6.650364</td>\n",
       "      <td>0.0</td>\n",
       "      <td>0.00</td>\n",
       "      <td>5.00</td>\n",
       "      <td>12.00</td>\n",
       "      <td>29.00</td>\n",
       "    </tr>\n",
       "    <tr>\n",
       "      <th>Population</th>\n",
       "      <td>400.0</td>\n",
       "      <td>264.840000</td>\n",
       "      <td>147.376436</td>\n",
       "      <td>10.0</td>\n",
       "      <td>139.00</td>\n",
       "      <td>272.00</td>\n",
       "      <td>398.50</td>\n",
       "      <td>509.00</td>\n",
       "    </tr>\n",
       "    <tr>\n",
       "      <th>Price</th>\n",
       "      <td>400.0</td>\n",
       "      <td>115.795000</td>\n",
       "      <td>23.676664</td>\n",
       "      <td>24.0</td>\n",
       "      <td>100.00</td>\n",
       "      <td>117.00</td>\n",
       "      <td>131.00</td>\n",
       "      <td>191.00</td>\n",
       "    </tr>\n",
       "    <tr>\n",
       "      <th>Age</th>\n",
       "      <td>400.0</td>\n",
       "      <td>53.322500</td>\n",
       "      <td>16.200297</td>\n",
       "      <td>25.0</td>\n",
       "      <td>39.75</td>\n",
       "      <td>54.50</td>\n",
       "      <td>66.00</td>\n",
       "      <td>80.00</td>\n",
       "    </tr>\n",
       "    <tr>\n",
       "      <th>Education</th>\n",
       "      <td>400.0</td>\n",
       "      <td>13.900000</td>\n",
       "      <td>2.620528</td>\n",
       "      <td>10.0</td>\n",
       "      <td>12.00</td>\n",
       "      <td>14.00</td>\n",
       "      <td>16.00</td>\n",
       "      <td>18.00</td>\n",
       "    </tr>\n",
       "  </tbody>\n",
       "</table>\n",
       "</div>"
      ],
      "text/plain": [
       "             count        mean         std   min     25%     50%     75%  \\\n",
       "Sales        400.0    7.496325    2.824115   0.0    5.39    7.49    9.32   \n",
       "CompPrice    400.0  124.975000   15.334512  77.0  115.00  125.00  135.00   \n",
       "Income       400.0   68.657500   27.986037  21.0   42.75   69.00   91.00   \n",
       "Advertising  400.0    6.635000    6.650364   0.0    0.00    5.00   12.00   \n",
       "Population   400.0  264.840000  147.376436  10.0  139.00  272.00  398.50   \n",
       "Price        400.0  115.795000   23.676664  24.0  100.00  117.00  131.00   \n",
       "Age          400.0   53.322500   16.200297  25.0   39.75   54.50   66.00   \n",
       "Education    400.0   13.900000    2.620528  10.0   12.00   14.00   16.00   \n",
       "\n",
       "                max  \n",
       "Sales         16.27  \n",
       "CompPrice    175.00  \n",
       "Income       120.00  \n",
       "Advertising   29.00  \n",
       "Population   509.00  \n",
       "Price        191.00  \n",
       "Age           80.00  \n",
       "Education     18.00  "
      ]
     },
     "execution_count": 7,
     "metadata": {},
     "output_type": "execute_result"
    }
   ],
   "source": [
    "# Checking additional stats from dataset\n",
    "df.describe().T"
   ]
  },
  {
   "cell_type": "code",
   "execution_count": 8,
   "id": "2eac6779",
   "metadata": {
    "ExecuteTime": {
     "end_time": "2023-01-31T14:29:30.590031Z",
     "start_time": "2023-01-31T14:29:30.514248Z"
    }
   },
   "outputs": [
    {
     "data": {
      "text/html": [
       "<style type=\"text/css\">\n",
       "#T_28941_row0_col0, #T_28941_row1_col1, #T_28941_row2_col2, #T_28941_row3_col3, #T_28941_row4_col4, #T_28941_row5_col5, #T_28941_row6_col6, #T_28941_row7_col7 {\n",
       "  background-color: #b40426;\n",
       "  color: #f1f1f1;\n",
       "}\n",
       "#T_28941_row0_col1 {\n",
       "  background-color: #6a8bef;\n",
       "  color: #f1f1f1;\n",
       "}\n",
       "#T_28941_row0_col2 {\n",
       "  background-color: #81a4fb;\n",
       "  color: #f1f1f1;\n",
       "}\n",
       "#T_28941_row0_col3 {\n",
       "  background-color: #9dbdff;\n",
       "  color: #000000;\n",
       "}\n",
       "#T_28941_row0_col4 {\n",
       "  background-color: #6788ee;\n",
       "  color: #f1f1f1;\n",
       "}\n",
       "#T_28941_row0_col5, #T_28941_row0_col6, #T_28941_row1_col2, #T_28941_row4_col7, #T_28941_row5_col0, #T_28941_row6_col1, #T_28941_row7_col3, #T_28941_row7_col4 {\n",
       "  background-color: #3b4cc0;\n",
       "  color: #f1f1f1;\n",
       "}\n",
       "#T_28941_row0_col7 {\n",
       "  background-color: #4961d2;\n",
       "  color: #f1f1f1;\n",
       "}\n",
       "#T_28941_row1_col0 {\n",
       "  background-color: #b1cbfc;\n",
       "  color: #000000;\n",
       "}\n",
       "#T_28941_row1_col3, #T_28941_row1_col4 {\n",
       "  background-color: #3d50c3;\n",
       "  color: #f1f1f1;\n",
       "}\n",
       "#T_28941_row1_col5 {\n",
       "  background-color: #f7a889;\n",
       "  color: #000000;\n",
       "}\n",
       "#T_28941_row1_col6, #T_28941_row5_col7 {\n",
       "  background-color: #5b7ae5;\n",
       "  color: #f1f1f1;\n",
       "}\n",
       "#T_28941_row1_col7 {\n",
       "  background-color: #5f7fe8;\n",
       "  color: #f1f1f1;\n",
       "}\n",
       "#T_28941_row2_col0 {\n",
       "  background-color: #c4d5f3;\n",
       "  color: #000000;\n",
       "}\n",
       "#T_28941_row2_col1 {\n",
       "  background-color: #3f53c6;\n",
       "  color: #f1f1f1;\n",
       "}\n",
       "#T_28941_row2_col3, #T_28941_row2_col4 {\n",
       "  background-color: #5572df;\n",
       "  color: #f1f1f1;\n",
       "}\n",
       "#T_28941_row2_col5 {\n",
       "  background-color: #93b5fe;\n",
       "  color: #000000;\n",
       "}\n",
       "#T_28941_row2_col6, #T_28941_row3_col6 {\n",
       "  background-color: #7699f6;\n",
       "  color: #f1f1f1;\n",
       "}\n",
       "#T_28941_row2_col7 {\n",
       "  background-color: #485fd1;\n",
       "  color: #f1f1f1;\n",
       "}\n",
       "#T_28941_row3_col0 {\n",
       "  background-color: #dbdcde;\n",
       "  color: #000000;\n",
       "}\n",
       "#T_28941_row3_col1, #T_28941_row4_col2, #T_28941_row6_col2 {\n",
       "  background-color: #4f69d9;\n",
       "  color: #f1f1f1;\n",
       "}\n",
       "#T_28941_row3_col2 {\n",
       "  background-color: #6384eb;\n",
       "  color: #f1f1f1;\n",
       "}\n",
       "#T_28941_row3_col4, #T_28941_row3_col5 {\n",
       "  background-color: #abc8fd;\n",
       "  color: #000000;\n",
       "}\n",
       "#T_28941_row3_col7 {\n",
       "  background-color: #4e68d8;\n",
       "  color: #f1f1f1;\n",
       "}\n",
       "#T_28941_row4_col0 {\n",
       "  background-color: #adc9fd;\n",
       "  color: #000000;\n",
       "}\n",
       "#T_28941_row4_col1 {\n",
       "  background-color: #3c4ec2;\n",
       "  color: #f1f1f1;\n",
       "}\n",
       "#T_28941_row4_col3 {\n",
       "  background-color: #9bbcff;\n",
       "  color: #000000;\n",
       "}\n",
       "#T_28941_row4_col5 {\n",
       "  background-color: #9ebeff;\n",
       "  color: #000000;\n",
       "}\n",
       "#T_28941_row4_col6 {\n",
       "  background-color: #6b8df0;\n",
       "  color: #f1f1f1;\n",
       "}\n",
       "#T_28941_row5_col1 {\n",
       "  background-color: #f4c5ad;\n",
       "  color: #000000;\n",
       "}\n",
       "#T_28941_row5_col2, #T_28941_row7_col2 {\n",
       "  background-color: #4055c8;\n",
       "  color: #f1f1f1;\n",
       "}\n",
       "#T_28941_row5_col3 {\n",
       "  background-color: #516ddb;\n",
       "  color: #f1f1f1;\n",
       "}\n",
       "#T_28941_row5_col4 {\n",
       "  background-color: #5470de;\n",
       "  color: #f1f1f1;\n",
       "}\n",
       "#T_28941_row5_col6, #T_28941_row6_col7 {\n",
       "  background-color: #5a78e4;\n",
       "  color: #f1f1f1;\n",
       "}\n",
       "#T_28941_row6_col0 {\n",
       "  background-color: #688aef;\n",
       "  color: #f1f1f1;\n",
       "}\n",
       "#T_28941_row6_col3 {\n",
       "  background-color: #4358cb;\n",
       "  color: #f1f1f1;\n",
       "}\n",
       "#T_28941_row6_col4 {\n",
       "  background-color: #4b64d5;\n",
       "  color: #f1f1f1;\n",
       "}\n",
       "#T_28941_row6_col5 {\n",
       "  background-color: #88abfd;\n",
       "  color: #000000;\n",
       "}\n",
       "#T_28941_row7_col0 {\n",
       "  background-color: #94b6ff;\n",
       "  color: #000000;\n",
       "}\n",
       "#T_28941_row7_col1 {\n",
       "  background-color: #5e7de7;\n",
       "  color: #f1f1f1;\n",
       "}\n",
       "#T_28941_row7_col5 {\n",
       "  background-color: #a3c2fe;\n",
       "  color: #000000;\n",
       "}\n",
       "#T_28941_row7_col6 {\n",
       "  background-color: #799cf8;\n",
       "  color: #f1f1f1;\n",
       "}\n",
       "</style>\n",
       "<table id=\"T_28941\">\n",
       "  <thead>\n",
       "    <tr>\n",
       "      <th class=\"blank level0\" >&nbsp;</th>\n",
       "      <th id=\"T_28941_level0_col0\" class=\"col_heading level0 col0\" >Sales</th>\n",
       "      <th id=\"T_28941_level0_col1\" class=\"col_heading level0 col1\" >CompPrice</th>\n",
       "      <th id=\"T_28941_level0_col2\" class=\"col_heading level0 col2\" >Income</th>\n",
       "      <th id=\"T_28941_level0_col3\" class=\"col_heading level0 col3\" >Advertising</th>\n",
       "      <th id=\"T_28941_level0_col4\" class=\"col_heading level0 col4\" >Population</th>\n",
       "      <th id=\"T_28941_level0_col5\" class=\"col_heading level0 col5\" >Price</th>\n",
       "      <th id=\"T_28941_level0_col6\" class=\"col_heading level0 col6\" >Age</th>\n",
       "      <th id=\"T_28941_level0_col7\" class=\"col_heading level0 col7\" >Education</th>\n",
       "    </tr>\n",
       "  </thead>\n",
       "  <tbody>\n",
       "    <tr>\n",
       "      <th id=\"T_28941_level0_row0\" class=\"row_heading level0 row0\" >Sales</th>\n",
       "      <td id=\"T_28941_row0_col0\" class=\"data row0 col0\" >1.0000</td>\n",
       "      <td id=\"T_28941_row0_col1\" class=\"data row0 col1\" >0.0641</td>\n",
       "      <td id=\"T_28941_row0_col2\" class=\"data row0 col2\" >0.1520</td>\n",
       "      <td id=\"T_28941_row0_col3\" class=\"data row0 col3\" >0.2695</td>\n",
       "      <td id=\"T_28941_row0_col4\" class=\"data row0 col4\" >0.0505</td>\n",
       "      <td id=\"T_28941_row0_col5\" class=\"data row0 col5\" >-0.4450</td>\n",
       "      <td id=\"T_28941_row0_col6\" class=\"data row0 col6\" >-0.2318</td>\n",
       "      <td id=\"T_28941_row0_col7\" class=\"data row0 col7\" >-0.0520</td>\n",
       "    </tr>\n",
       "    <tr>\n",
       "      <th id=\"T_28941_level0_row1\" class=\"row_heading level0 row1\" >CompPrice</th>\n",
       "      <td id=\"T_28941_row1_col0\" class=\"data row1 col0\" >0.0641</td>\n",
       "      <td id=\"T_28941_row1_col1\" class=\"data row1 col1\" >1.0000</td>\n",
       "      <td id=\"T_28941_row1_col2\" class=\"data row1 col2\" >-0.0807</td>\n",
       "      <td id=\"T_28941_row1_col3\" class=\"data row1 col3\" >-0.0242</td>\n",
       "      <td id=\"T_28941_row1_col4\" class=\"data row1 col4\" >-0.0947</td>\n",
       "      <td id=\"T_28941_row1_col5\" class=\"data row1 col5\" >0.5848</td>\n",
       "      <td id=\"T_28941_row1_col6\" class=\"data row1 col6\" >-0.1002</td>\n",
       "      <td id=\"T_28941_row1_col7\" class=\"data row1 col7\" >0.0252</td>\n",
       "    </tr>\n",
       "    <tr>\n",
       "      <th id=\"T_28941_level0_row2\" class=\"row_heading level0 row2\" >Income</th>\n",
       "      <td id=\"T_28941_row2_col0\" class=\"data row2 col0\" >0.1520</td>\n",
       "      <td id=\"T_28941_row2_col1\" class=\"data row2 col1\" >-0.0807</td>\n",
       "      <td id=\"T_28941_row2_col2\" class=\"data row2 col2\" >1.0000</td>\n",
       "      <td id=\"T_28941_row2_col3\" class=\"data row2 col3\" >0.0590</td>\n",
       "      <td id=\"T_28941_row2_col4\" class=\"data row2 col4\" >-0.0079</td>\n",
       "      <td id=\"T_28941_row2_col5\" class=\"data row2 col5\" >-0.0567</td>\n",
       "      <td id=\"T_28941_row2_col6\" class=\"data row2 col6\" >-0.0047</td>\n",
       "      <td id=\"T_28941_row2_col7\" class=\"data row2 col7\" >-0.0569</td>\n",
       "    </tr>\n",
       "    <tr>\n",
       "      <th id=\"T_28941_level0_row3\" class=\"row_heading level0 row3\" >Advertising</th>\n",
       "      <td id=\"T_28941_row3_col0\" class=\"data row3 col0\" >0.2695</td>\n",
       "      <td id=\"T_28941_row3_col1\" class=\"data row3 col1\" >-0.0242</td>\n",
       "      <td id=\"T_28941_row3_col2\" class=\"data row3 col2\" >0.0590</td>\n",
       "      <td id=\"T_28941_row3_col3\" class=\"data row3 col3\" >1.0000</td>\n",
       "      <td id=\"T_28941_row3_col4\" class=\"data row3 col4\" >0.2657</td>\n",
       "      <td id=\"T_28941_row3_col5\" class=\"data row3 col5\" >0.0445</td>\n",
       "      <td id=\"T_28941_row3_col6\" class=\"data row3 col6\" >-0.0046</td>\n",
       "      <td id=\"T_28941_row3_col7\" class=\"data row3 col7\" >-0.0336</td>\n",
       "    </tr>\n",
       "    <tr>\n",
       "      <th id=\"T_28941_level0_row4\" class=\"row_heading level0 row4\" >Population</th>\n",
       "      <td id=\"T_28941_row4_col0\" class=\"data row4 col0\" >0.0505</td>\n",
       "      <td id=\"T_28941_row4_col1\" class=\"data row4 col1\" >-0.0947</td>\n",
       "      <td id=\"T_28941_row4_col2\" class=\"data row4 col2\" >-0.0079</td>\n",
       "      <td id=\"T_28941_row4_col3\" class=\"data row4 col3\" >0.2657</td>\n",
       "      <td id=\"T_28941_row4_col4\" class=\"data row4 col4\" >1.0000</td>\n",
       "      <td id=\"T_28941_row4_col5\" class=\"data row4 col5\" >-0.0121</td>\n",
       "      <td id=\"T_28941_row4_col6\" class=\"data row4 col6\" >-0.0427</td>\n",
       "      <td id=\"T_28941_row4_col7\" class=\"data row4 col7\" >-0.1064</td>\n",
       "    </tr>\n",
       "    <tr>\n",
       "      <th id=\"T_28941_level0_row5\" class=\"row_heading level0 row5\" >Price</th>\n",
       "      <td id=\"T_28941_row5_col0\" class=\"data row5 col0\" >-0.4450</td>\n",
       "      <td id=\"T_28941_row5_col1\" class=\"data row5 col1\" >0.5848</td>\n",
       "      <td id=\"T_28941_row5_col2\" class=\"data row5 col2\" >-0.0567</td>\n",
       "      <td id=\"T_28941_row5_col3\" class=\"data row5 col3\" >0.0445</td>\n",
       "      <td id=\"T_28941_row5_col4\" class=\"data row5 col4\" >-0.0121</td>\n",
       "      <td id=\"T_28941_row5_col5\" class=\"data row5 col5\" >1.0000</td>\n",
       "      <td id=\"T_28941_row5_col6\" class=\"data row5 col6\" >-0.1022</td>\n",
       "      <td id=\"T_28941_row5_col7\" class=\"data row5 col7\" >0.0117</td>\n",
       "    </tr>\n",
       "    <tr>\n",
       "      <th id=\"T_28941_level0_row6\" class=\"row_heading level0 row6\" >Age</th>\n",
       "      <td id=\"T_28941_row6_col0\" class=\"data row6 col0\" >-0.2318</td>\n",
       "      <td id=\"T_28941_row6_col1\" class=\"data row6 col1\" >-0.1002</td>\n",
       "      <td id=\"T_28941_row6_col2\" class=\"data row6 col2\" >-0.0047</td>\n",
       "      <td id=\"T_28941_row6_col3\" class=\"data row6 col3\" >-0.0046</td>\n",
       "      <td id=\"T_28941_row6_col4\" class=\"data row6 col4\" >-0.0427</td>\n",
       "      <td id=\"T_28941_row6_col5\" class=\"data row6 col5\" >-0.1022</td>\n",
       "      <td id=\"T_28941_row6_col6\" class=\"data row6 col6\" >1.0000</td>\n",
       "      <td id=\"T_28941_row6_col7\" class=\"data row6 col7\" >0.0065</td>\n",
       "    </tr>\n",
       "    <tr>\n",
       "      <th id=\"T_28941_level0_row7\" class=\"row_heading level0 row7\" >Education</th>\n",
       "      <td id=\"T_28941_row7_col0\" class=\"data row7 col0\" >-0.0520</td>\n",
       "      <td id=\"T_28941_row7_col1\" class=\"data row7 col1\" >0.0252</td>\n",
       "      <td id=\"T_28941_row7_col2\" class=\"data row7 col2\" >-0.0569</td>\n",
       "      <td id=\"T_28941_row7_col3\" class=\"data row7 col3\" >-0.0336</td>\n",
       "      <td id=\"T_28941_row7_col4\" class=\"data row7 col4\" >-0.1064</td>\n",
       "      <td id=\"T_28941_row7_col5\" class=\"data row7 col5\" >0.0117</td>\n",
       "      <td id=\"T_28941_row7_col6\" class=\"data row7 col6\" >0.0065</td>\n",
       "      <td id=\"T_28941_row7_col7\" class=\"data row7 col7\" >1.0000</td>\n",
       "    </tr>\n",
       "  </tbody>\n",
       "</table>\n"
      ],
      "text/plain": [
       "<pandas.io.formats.style.Styler at 0x2a79d05e8e0>"
      ]
     },
     "execution_count": 8,
     "metadata": {},
     "output_type": "execute_result"
    }
   ],
   "source": [
    "# Correlation between each column\n",
    "corr = df.corr()\n",
    "corr.style.background_gradient(cmap='coolwarm').set_precision(4)"
   ]
  },
  {
   "cell_type": "code",
   "execution_count": 9,
   "id": "f81992f6",
   "metadata": {
    "ExecuteTime": {
     "end_time": "2023-01-31T14:29:33.744335Z",
     "start_time": "2023-01-31T14:29:33.222259Z"
    }
   },
   "outputs": [
    {
     "data": {
      "image/png": "[encoded data removed]",
      "text/plain": [
       "<Figure size 1000x1500 with 16 Axes>"
      ]
     },
     "metadata": {},
     "output_type": "display_data"
    }
   ],
   "source": [
    "# To reinforce our insights about the data symmetry and their outliers, we can plot some boxplots\n",
    "\n",
    "df.plot(kind='box', subplots=True, layout=(4,4),figsize=(10,15), sharex=False, sharey=False, color='blue')\n",
    "plt.show()"
   ]
  },
  {
   "cell_type": "code",
   "execution_count": 10,
   "id": "eff66162",
   "metadata": {
    "ExecuteTime": {
     "end_time": "2023-01-31T14:29:40.682204Z",
     "start_time": "2023-01-31T14:29:40.666868Z"
    }
   },
   "outputs": [
    {
     "data": {
      "text/plain": [
       "Sales          0.185560\n",
       "CompPrice     -0.042755\n",
       "Income         0.049444\n",
       "Advertising    0.639586\n",
       "Population    -0.051227\n",
       "Price         -0.125286\n",
       "Age           -0.077182\n",
       "Education      0.044007\n",
       "dtype: float64"
      ]
     },
     "execution_count": 10,
     "metadata": {},
     "output_type": "execute_result"
    }
   ],
   "source": [
    "# Skewness of dataset\n",
    "df.skew()"
   ]
  },
  {
   "cell_type": "code",
   "execution_count": 13,
   "id": "4edc7e97",
   "metadata": {
    "ExecuteTime": {
     "end_time": "2023-01-31T14:32:18.432747Z",
     "start_time": "2023-01-31T14:32:18.254722Z"
    }
   },
   "outputs": [
    {
     "name": "stdout",
     "output_type": "stream",
     "text": [
      "Skew: 0.18556036318721578\n",
      "Kurtosis: -0.08087736743346197\n"
     ]
    },
    {
     "data": {
      "image/png": "[encoded data removed]",
      "text/plain": [
       "<Figure size 1600x500 with 1 Axes>"
      ]
     },
     "metadata": {},
     "output_type": "display_data"
    }
   ],
   "source": [
    "# Visualizing skewnees of \"Sales\" column\n",
    "plt.figure(figsize=(16,5))\n",
    "print(\"Skew: {}\".format(df['Sales'].skew()))\n",
    "print(\"Kurtosis: {}\".format(df['Sales'].kurtosis()))\n",
    "ax = sns.kdeplot(df['Sales'],shade=True,color='blue')\n",
    "plt.xticks([i for i in range(0,20,1)])\n",
    "plt.title(\"Skewnees & Kurtosis of 'Taxable.Income' column\")\n",
    "plt.grid()\n",
    "plt.show()"
   ]
  },
  {
   "cell_type": "markdown",
   "id": "8ccccc9c",
   "metadata": {},
   "source": [
    "***Ordinal Encoding :***\n",
    "- Converting categorical columns into numerical columns"
   ]
  },
  {
   "cell_type": "code",
   "execution_count": 14,
   "id": "948e839b",
   "metadata": {
    "ExecuteTime": {
     "end_time": "2023-01-31T14:32:36.393149Z",
     "start_time": "2023-01-31T14:32:36.369986Z"
    }
   },
   "outputs": [
    {
     "data": {
      "text/html": [
       "<div>\n",
       "<style scoped>\n",
       "    .dataframe tbody tr th:only-of-type {\n",
       "        vertical-align: middle;\n",
       "    }\n",
       "\n",
       "    .dataframe tbody tr th {\n",
       "        vertical-align: top;\n",
       "    }\n",
       "\n",
       "    .dataframe thead th {\n",
       "        text-align: right;\n",
       "    }\n",
       "</style>\n",
       "<table border=\"1\" class=\"dataframe\">\n",
       "  <thead>\n",
       "    <tr style=\"text-align: right;\">\n",
       "      <th></th>\n",
       "      <th>Sales</th>\n",
       "      <th>CompPrice</th>\n",
       "      <th>Income</th>\n",
       "      <th>Advertising</th>\n",
       "      <th>Population</th>\n",
       "      <th>Price</th>\n",
       "      <th>ShelveLoc</th>\n",
       "      <th>Age</th>\n",
       "      <th>Education</th>\n",
       "      <th>Urban</th>\n",
       "      <th>US</th>\n",
       "    </tr>\n",
       "  </thead>\n",
       "  <tbody>\n",
       "    <tr>\n",
       "      <th>0</th>\n",
       "      <td>9.50</td>\n",
       "      <td>138</td>\n",
       "      <td>73</td>\n",
       "      <td>11</td>\n",
       "      <td>276</td>\n",
       "      <td>120</td>\n",
       "      <td>0.0</td>\n",
       "      <td>42</td>\n",
       "      <td>17</td>\n",
       "      <td>1.0</td>\n",
       "      <td>1.0</td>\n",
       "    </tr>\n",
       "    <tr>\n",
       "      <th>1</th>\n",
       "      <td>11.22</td>\n",
       "      <td>111</td>\n",
       "      <td>48</td>\n",
       "      <td>16</td>\n",
       "      <td>260</td>\n",
       "      <td>83</td>\n",
       "      <td>1.0</td>\n",
       "      <td>65</td>\n",
       "      <td>10</td>\n",
       "      <td>1.0</td>\n",
       "      <td>1.0</td>\n",
       "    </tr>\n",
       "    <tr>\n",
       "      <th>2</th>\n",
       "      <td>10.06</td>\n",
       "      <td>113</td>\n",
       "      <td>35</td>\n",
       "      <td>10</td>\n",
       "      <td>269</td>\n",
       "      <td>80</td>\n",
       "      <td>2.0</td>\n",
       "      <td>59</td>\n",
       "      <td>12</td>\n",
       "      <td>1.0</td>\n",
       "      <td>1.0</td>\n",
       "    </tr>\n",
       "    <tr>\n",
       "      <th>3</th>\n",
       "      <td>7.40</td>\n",
       "      <td>117</td>\n",
       "      <td>100</td>\n",
       "      <td>4</td>\n",
       "      <td>466</td>\n",
       "      <td>97</td>\n",
       "      <td>2.0</td>\n",
       "      <td>55</td>\n",
       "      <td>14</td>\n",
       "      <td>1.0</td>\n",
       "      <td>1.0</td>\n",
       "    </tr>\n",
       "    <tr>\n",
       "      <th>4</th>\n",
       "      <td>4.15</td>\n",
       "      <td>141</td>\n",
       "      <td>64</td>\n",
       "      <td>3</td>\n",
       "      <td>340</td>\n",
       "      <td>128</td>\n",
       "      <td>0.0</td>\n",
       "      <td>38</td>\n",
       "      <td>13</td>\n",
       "      <td>1.0</td>\n",
       "      <td>0.0</td>\n",
       "    </tr>\n",
       "    <tr>\n",
       "      <th>...</th>\n",
       "      <td>...</td>\n",
       "      <td>...</td>\n",
       "      <td>...</td>\n",
       "      <td>...</td>\n",
       "      <td>...</td>\n",
       "      <td>...</td>\n",
       "      <td>...</td>\n",
       "      <td>...</td>\n",
       "      <td>...</td>\n",
       "      <td>...</td>\n",
       "      <td>...</td>\n",
       "    </tr>\n",
       "    <tr>\n",
       "      <th>395</th>\n",
       "      <td>12.57</td>\n",
       "      <td>138</td>\n",
       "      <td>108</td>\n",
       "      <td>17</td>\n",
       "      <td>203</td>\n",
       "      <td>128</td>\n",
       "      <td>1.0</td>\n",
       "      <td>33</td>\n",
       "      <td>14</td>\n",
       "      <td>1.0</td>\n",
       "      <td>1.0</td>\n",
       "    </tr>\n",
       "    <tr>\n",
       "      <th>396</th>\n",
       "      <td>6.14</td>\n",
       "      <td>139</td>\n",
       "      <td>23</td>\n",
       "      <td>3</td>\n",
       "      <td>37</td>\n",
       "      <td>120</td>\n",
       "      <td>2.0</td>\n",
       "      <td>55</td>\n",
       "      <td>11</td>\n",
       "      <td>0.0</td>\n",
       "      <td>1.0</td>\n",
       "    </tr>\n",
       "    <tr>\n",
       "      <th>397</th>\n",
       "      <td>7.41</td>\n",
       "      <td>162</td>\n",
       "      <td>26</td>\n",
       "      <td>12</td>\n",
       "      <td>368</td>\n",
       "      <td>159</td>\n",
       "      <td>2.0</td>\n",
       "      <td>40</td>\n",
       "      <td>18</td>\n",
       "      <td>1.0</td>\n",
       "      <td>1.0</td>\n",
       "    </tr>\n",
       "    <tr>\n",
       "      <th>398</th>\n",
       "      <td>5.94</td>\n",
       "      <td>100</td>\n",
       "      <td>79</td>\n",
       "      <td>7</td>\n",
       "      <td>284</td>\n",
       "      <td>95</td>\n",
       "      <td>0.0</td>\n",
       "      <td>50</td>\n",
       "      <td>12</td>\n",
       "      <td>1.0</td>\n",
       "      <td>1.0</td>\n",
       "    </tr>\n",
       "    <tr>\n",
       "      <th>399</th>\n",
       "      <td>9.71</td>\n",
       "      <td>134</td>\n",
       "      <td>37</td>\n",
       "      <td>0</td>\n",
       "      <td>27</td>\n",
       "      <td>120</td>\n",
       "      <td>1.0</td>\n",
       "      <td>49</td>\n",
       "      <td>16</td>\n",
       "      <td>1.0</td>\n",
       "      <td>1.0</td>\n",
       "    </tr>\n",
       "  </tbody>\n",
       "</table>\n",
       "<p>400 rows × 11 columns</p>\n",
       "</div>"
      ],
      "text/plain": [
       "     Sales  CompPrice  Income  Advertising  Population  Price  ShelveLoc  Age  \\\n",
       "0     9.50        138      73           11         276    120        0.0   42   \n",
       "1    11.22        111      48           16         260     83        1.0   65   \n",
       "2    10.06        113      35           10         269     80        2.0   59   \n",
       "3     7.40        117     100            4         466     97        2.0   55   \n",
       "4     4.15        141      64            3         340    128        0.0   38   \n",
       "..     ...        ...     ...          ...         ...    ...        ...  ...   \n",
       "395  12.57        138     108           17         203    128        1.0   33   \n",
       "396   6.14        139      23            3          37    120        2.0   55   \n",
       "397   7.41        162      26           12         368    159        2.0   40   \n",
       "398   5.94        100      79            7         284     95        0.0   50   \n",
       "399   9.71        134      37            0          27    120        1.0   49   \n",
       "\n",
       "     Education  Urban   US  \n",
       "0           17    1.0  1.0  \n",
       "1           10    1.0  1.0  \n",
       "2           12    1.0  1.0  \n",
       "3           14    1.0  1.0  \n",
       "4           13    1.0  0.0  \n",
       "..         ...    ...  ...  \n",
       "395         14    1.0  1.0  \n",
       "396         11    0.0  1.0  \n",
       "397         18    1.0  1.0  \n",
       "398         12    1.0  1.0  \n",
       "399         16    1.0  1.0  \n",
       "\n",
       "[400 rows x 11 columns]"
      ]
     },
     "execution_count": 14,
     "metadata": {},
     "output_type": "execute_result"
    }
   ],
   "source": [
    "oe = OrdinalEncoder()\n",
    "\n",
    "cat_cols = df.select_dtypes(object).columns\n",
    "df[cat_cols] = oe.fit_transform(df[cat_cols])\n",
    "df"
   ]
  },
  {
   "cell_type": "code",
   "execution_count": 15,
   "id": "22745202",
   "metadata": {
    "ExecuteTime": {
     "end_time": "2023-01-31T14:32:37.512357Z",
     "start_time": "2023-01-31T14:32:37.478575Z"
    }
   },
   "outputs": [
    {
     "data": {
      "text/html": [
       "<style type=\"text/css\">\n",
       "#T_bf9dd_row0_col0, #T_bf9dd_row1_col1, #T_bf9dd_row2_col2, #T_bf9dd_row3_col3, #T_bf9dd_row4_col4, #T_bf9dd_row5_col5, #T_bf9dd_row6_col6, #T_bf9dd_row7_col7, #T_bf9dd_row8_col8, #T_bf9dd_row9_col9, #T_bf9dd_row10_col10 {\n",
       "  background-color: #b40426;\n",
       "  color: #f1f1f1;\n",
       "}\n",
       "#T_bf9dd_row0_col1, #T_bf9dd_row9_col1, #T_bf9dd_row10_col4 {\n",
       "  background-color: #6a8bef;\n",
       "  color: #f1f1f1;\n",
       "}\n",
       "#T_bf9dd_row0_col2 {\n",
       "  background-color: #81a4fb;\n",
       "  color: #f1f1f1;\n",
       "}\n",
       "#T_bf9dd_row0_col3 {\n",
       "  background-color: #9dbdff;\n",
       "  color: #000000;\n",
       "}\n",
       "#T_bf9dd_row0_col4 {\n",
       "  background-color: #6788ee;\n",
       "  color: #f1f1f1;\n",
       "}\n",
       "#T_bf9dd_row0_col5, #T_bf9dd_row0_col7, #T_bf9dd_row1_col2, #T_bf9dd_row2_col6, #T_bf9dd_row4_col8, #T_bf9dd_row5_col0, #T_bf9dd_row6_col9, #T_bf9dd_row7_col1, #T_bf9dd_row8_col3, #T_bf9dd_row8_col4, #T_bf9dd_row8_col10, #T_bf9dd_row9_col6 {\n",
       "  background-color: #3b4cc0;\n",
       "  color: #f1f1f1;\n",
       "}\n",
       "#T_bf9dd_row0_col6 {\n",
       "  background-color: #7ea1fa;\n",
       "  color: #f1f1f1;\n",
       "}\n",
       "#T_bf9dd_row0_col8, #T_bf9dd_row9_col4 {\n",
       "  background-color: #4961d2;\n",
       "  color: #f1f1f1;\n",
       "}\n",
       "#T_bf9dd_row0_col9, #T_bf9dd_row2_col8 {\n",
       "  background-color: #485fd1;\n",
       "  color: #f1f1f1;\n",
       "}\n",
       "#T_bf9dd_row0_col10, #T_bf9dd_row7_col5 {\n",
       "  background-color: #88abfd;\n",
       "  color: #000000;\n",
       "}\n",
       "#T_bf9dd_row1_col0 {\n",
       "  background-color: #b1cbfc;\n",
       "  color: #000000;\n",
       "}\n",
       "#T_bf9dd_row1_col3, #T_bf9dd_row1_col4, #T_bf9dd_row4_col9 {\n",
       "  background-color: #3d50c3;\n",
       "  color: #f1f1f1;\n",
       "}\n",
       "#T_bf9dd_row1_col5 {\n",
       "  background-color: #f7a889;\n",
       "  color: #000000;\n",
       "}\n",
       "#T_bf9dd_row1_col6, #T_bf9dd_row5_col4 {\n",
       "  background-color: #5470de;\n",
       "  color: #f1f1f1;\n",
       "}\n",
       "#T_bf9dd_row1_col7, #T_bf9dd_row5_col8, #T_bf9dd_row10_col1 {\n",
       "  background-color: #5b7ae5;\n",
       "  color: #f1f1f1;\n",
       "}\n",
       "#T_bf9dd_row1_col8 {\n",
       "  background-color: #5f7fe8;\n",
       "  color: #f1f1f1;\n",
       "}\n",
       "#T_bf9dd_row1_col9 {\n",
       "  background-color: #6180e9;\n",
       "  color: #f1f1f1;\n",
       "}\n",
       "#T_bf9dd_row1_col10, #T_bf9dd_row2_col3, #T_bf9dd_row2_col4, #T_bf9dd_row7_col9 {\n",
       "  background-color: #5572df;\n",
       "  color: #f1f1f1;\n",
       "}\n",
       "#T_bf9dd_row2_col0 {\n",
       "  background-color: #c4d5f3;\n",
       "  color: #000000;\n",
       "}\n",
       "#T_bf9dd_row2_col1 {\n",
       "  background-color: #3f53c6;\n",
       "  color: #f1f1f1;\n",
       "}\n",
       "#T_bf9dd_row2_col5 {\n",
       "  background-color: #93b5fe;\n",
       "  color: #000000;\n",
       "}\n",
       "#T_bf9dd_row2_col7, #T_bf9dd_row3_col7 {\n",
       "  background-color: #7699f6;\n",
       "  color: #f1f1f1;\n",
       "}\n",
       "#T_bf9dd_row2_col9, #T_bf9dd_row6_col8 {\n",
       "  background-color: #5875e1;\n",
       "  color: #f1f1f1;\n",
       "}\n",
       "#T_bf9dd_row2_col10, #T_bf9dd_row4_col7 {\n",
       "  background-color: #6b8df0;\n",
       "  color: #f1f1f1;\n",
       "}\n",
       "#T_bf9dd_row3_col0 {\n",
       "  background-color: #dbdcde;\n",
       "  color: #000000;\n",
       "}\n",
       "#T_bf9dd_row3_col1, #T_bf9dd_row4_col2, #T_bf9dd_row7_col2 {\n",
       "  background-color: #4f69d9;\n",
       "  color: #f1f1f1;\n",
       "}\n",
       "#T_bf9dd_row3_col2 {\n",
       "  background-color: #6384eb;\n",
       "  color: #f1f1f1;\n",
       "}\n",
       "#T_bf9dd_row3_col4, #T_bf9dd_row3_col5 {\n",
       "  background-color: #abc8fd;\n",
       "  color: #000000;\n",
       "}\n",
       "#T_bf9dd_row3_col6, #T_bf9dd_row9_col3 {\n",
       "  background-color: #506bda;\n",
       "  color: #f1f1f1;\n",
       "}\n",
       "#T_bf9dd_row3_col8, #T_bf9dd_row8_col6, #T_bf9dd_row9_col8 {\n",
       "  background-color: #4e68d8;\n",
       "  color: #f1f1f1;\n",
       "}\n",
       "#T_bf9dd_row3_col9 {\n",
       "  background-color: #5977e3;\n",
       "  color: #f1f1f1;\n",
       "}\n",
       "#T_bf9dd_row3_col10 {\n",
       "  background-color: #f7a98b;\n",
       "  color: #000000;\n",
       "}\n",
       "#T_bf9dd_row4_col0, #T_bf9dd_row9_col5 {\n",
       "  background-color: #adc9fd;\n",
       "  color: #000000;\n",
       "}\n",
       "#T_bf9dd_row4_col1 {\n",
       "  background-color: #3c4ec2;\n",
       "  color: #f1f1f1;\n",
       "}\n",
       "#T_bf9dd_row4_col3 {\n",
       "  background-color: #9bbcff;\n",
       "  color: #000000;\n",
       "}\n",
       "#T_bf9dd_row4_col5, #T_bf9dd_row9_col0 {\n",
       "  background-color: #9ebeff;\n",
       "  color: #000000;\n",
       "}\n",
       "#T_bf9dd_row4_col6, #T_bf9dd_row5_col2, #T_bf9dd_row8_col2 {\n",
       "  background-color: #4055c8;\n",
       "  color: #f1f1f1;\n",
       "}\n",
       "#T_bf9dd_row4_col10, #T_bf9dd_row5_col10 {\n",
       "  background-color: #6282ea;\n",
       "  color: #f1f1f1;\n",
       "}\n",
       "#T_bf9dd_row5_col1 {\n",
       "  background-color: #f4c5ad;\n",
       "  color: #000000;\n",
       "}\n",
       "#T_bf9dd_row5_col3, #T_bf9dd_row5_col6 {\n",
       "  background-color: #516ddb;\n",
       "  color: #f1f1f1;\n",
       "}\n",
       "#T_bf9dd_row5_col7, #T_bf9dd_row5_col9, #T_bf9dd_row7_col8, #T_bf9dd_row10_col9 {\n",
       "  background-color: #5a78e4;\n",
       "  color: #f1f1f1;\n",
       "}\n",
       "#T_bf9dd_row6_col0 {\n",
       "  background-color: #c5d6f2;\n",
       "  color: #000000;\n",
       "}\n",
       "#T_bf9dd_row6_col1, #T_bf9dd_row9_col2 {\n",
       "  background-color: #5d7ce6;\n",
       "  color: #f1f1f1;\n",
       "}\n",
       "#T_bf9dd_row6_col2 {\n",
       "  background-color: #3e51c5;\n",
       "  color: #f1f1f1;\n",
       "}\n",
       "#T_bf9dd_row6_col3 {\n",
       "  background-color: #465ecf;\n",
       "  color: #f1f1f1;\n",
       "}\n",
       "#T_bf9dd_row6_col4, #T_bf9dd_row7_col4 {\n",
       "  background-color: #4b64d5;\n",
       "  color: #f1f1f1;\n",
       "}\n",
       "#T_bf9dd_row6_col5 {\n",
       "  background-color: #a5c3fe;\n",
       "  color: #000000;\n",
       "}\n",
       "#T_bf9dd_row6_col7 {\n",
       "  background-color: #86a9fc;\n",
       "  color: #f1f1f1;\n",
       "}\n",
       "#T_bf9dd_row6_col10 {\n",
       "  background-color: #455cce;\n",
       "  color: #f1f1f1;\n",
       "}\n",
       "#T_bf9dd_row7_col0 {\n",
       "  background-color: #688aef;\n",
       "  color: #f1f1f1;\n",
       "}\n",
       "#T_bf9dd_row7_col3, #T_bf9dd_row8_col9 {\n",
       "  background-color: #4358cb;\n",
       "  color: #f1f1f1;\n",
       "}\n",
       "#T_bf9dd_row7_col6, #T_bf9dd_row8_col1, #T_bf9dd_row9_col10 {\n",
       "  background-color: #5e7de7;\n",
       "  color: #f1f1f1;\n",
       "}\n",
       "#T_bf9dd_row7_col10 {\n",
       "  background-color: #536edd;\n",
       "  color: #f1f1f1;\n",
       "}\n",
       "#T_bf9dd_row8_col0 {\n",
       "  background-color: #94b6ff;\n",
       "  color: #000000;\n",
       "}\n",
       "#T_bf9dd_row8_col5 {\n",
       "  background-color: #a3c2fe;\n",
       "  color: #000000;\n",
       "}\n",
       "#T_bf9dd_row8_col7, #T_bf9dd_row10_col7 {\n",
       "  background-color: #799cf8;\n",
       "  color: #f1f1f1;\n",
       "}\n",
       "#T_bf9dd_row9_col7 {\n",
       "  background-color: #80a3fa;\n",
       "  color: #f1f1f1;\n",
       "}\n",
       "#T_bf9dd_row10_col0 {\n",
       "  background-color: #cad8ef;\n",
       "  color: #000000;\n",
       "}\n",
       "#T_bf9dd_row10_col2 {\n",
       "  background-color: #6c8ff1;\n",
       "  color: #f1f1f1;\n",
       "}\n",
       "#T_bf9dd_row10_col3 {\n",
       "  background-color: #f7af91;\n",
       "  color: #000000;\n",
       "}\n",
       "#T_bf9dd_row10_col5 {\n",
       "  background-color: #afcafc;\n",
       "  color: #000000;\n",
       "}\n",
       "#T_bf9dd_row10_col6, #T_bf9dd_row10_col8 {\n",
       "  background-color: #4257c9;\n",
       "  color: #f1f1f1;\n",
       "}\n",
       "</style>\n",
       "<table id=\"T_bf9dd\">\n",
       "  <thead>\n",
       "    <tr>\n",
       "      <th class=\"blank level0\" >&nbsp;</th>\n",
       "      <th id=\"T_bf9dd_level0_col0\" class=\"col_heading level0 col0\" >Sales</th>\n",
       "      <th id=\"T_bf9dd_level0_col1\" class=\"col_heading level0 col1\" >CompPrice</th>\n",
       "      <th id=\"T_bf9dd_level0_col2\" class=\"col_heading level0 col2\" >Income</th>\n",
       "      <th id=\"T_bf9dd_level0_col3\" class=\"col_heading level0 col3\" >Advertising</th>\n",
       "      <th id=\"T_bf9dd_level0_col4\" class=\"col_heading level0 col4\" >Population</th>\n",
       "      <th id=\"T_bf9dd_level0_col5\" class=\"col_heading level0 col5\" >Price</th>\n",
       "      <th id=\"T_bf9dd_level0_col6\" class=\"col_heading level0 col6\" >ShelveLoc</th>\n",
       "      <th id=\"T_bf9dd_level0_col7\" class=\"col_heading level0 col7\" >Age</th>\n",
       "      <th id=\"T_bf9dd_level0_col8\" class=\"col_heading level0 col8\" >Education</th>\n",
       "      <th id=\"T_bf9dd_level0_col9\" class=\"col_heading level0 col9\" >Urban</th>\n",
       "      <th id=\"T_bf9dd_level0_col10\" class=\"col_heading level0 col10\" >US</th>\n",
       "    </tr>\n",
       "  </thead>\n",
       "  <tbody>\n",
       "    <tr>\n",
       "      <th id=\"T_bf9dd_level0_row0\" class=\"row_heading level0 row0\" >Sales</th>\n",
       "      <td id=\"T_bf9dd_row0_col0\" class=\"data row0 col0\" >1.0000</td>\n",
       "      <td id=\"T_bf9dd_row0_col1\" class=\"data row0 col1\" >0.0641</td>\n",
       "      <td id=\"T_bf9dd_row0_col2\" class=\"data row0 col2\" >0.1520</td>\n",
       "      <td id=\"T_bf9dd_row0_col3\" class=\"data row0 col3\" >0.2695</td>\n",
       "      <td id=\"T_bf9dd_row0_col4\" class=\"data row0 col4\" >0.0505</td>\n",
       "      <td id=\"T_bf9dd_row0_col5\" class=\"data row0 col5\" >-0.4450</td>\n",
       "      <td id=\"T_bf9dd_row0_col6\" class=\"data row0 col6\" >0.1575</td>\n",
       "      <td id=\"T_bf9dd_row0_col7\" class=\"data row0 col7\" >-0.2318</td>\n",
       "      <td id=\"T_bf9dd_row0_col8\" class=\"data row0 col8\" >-0.0520</td>\n",
       "      <td id=\"T_bf9dd_row0_col9\" class=\"data row0 col9\" >-0.0154</td>\n",
       "      <td id=\"T_bf9dd_row0_col10\" class=\"data row0 col10\" >0.1771</td>\n",
       "    </tr>\n",
       "    <tr>\n",
       "      <th id=\"T_bf9dd_level0_row1\" class=\"row_heading level0 row1\" >CompPrice</th>\n",
       "      <td id=\"T_bf9dd_row1_col0\" class=\"data row1 col0\" >0.0641</td>\n",
       "      <td id=\"T_bf9dd_row1_col1\" class=\"data row1 col1\" >1.0000</td>\n",
       "      <td id=\"T_bf9dd_row1_col2\" class=\"data row1 col2\" >-0.0807</td>\n",
       "      <td id=\"T_bf9dd_row1_col3\" class=\"data row1 col3\" >-0.0242</td>\n",
       "      <td id=\"T_bf9dd_row1_col4\" class=\"data row1 col4\" >-0.0947</td>\n",
       "      <td id=\"T_bf9dd_row1_col5\" class=\"data row1 col5\" >0.5848</td>\n",
       "      <td id=\"T_bf9dd_row1_col6\" class=\"data row1 col6\" >0.0233</td>\n",
       "      <td id=\"T_bf9dd_row1_col7\" class=\"data row1 col7\" >-0.1002</td>\n",
       "      <td id=\"T_bf9dd_row1_col8\" class=\"data row1 col8\" >0.0252</td>\n",
       "      <td id=\"T_bf9dd_row1_col9\" class=\"data row1 col9\" >0.0666</td>\n",
       "      <td id=\"T_bf9dd_row1_col10\" class=\"data row1 col10\" >0.0169</td>\n",
       "    </tr>\n",
       "    <tr>\n",
       "      <th id=\"T_bf9dd_level0_row2\" class=\"row_heading level0 row2\" >Income</th>\n",
       "      <td id=\"T_bf9dd_row2_col0\" class=\"data row2 col0\" >0.1520</td>\n",
       "      <td id=\"T_bf9dd_row2_col1\" class=\"data row2 col1\" >-0.0807</td>\n",
       "      <td id=\"T_bf9dd_row2_col2\" class=\"data row2 col2\" >1.0000</td>\n",
       "      <td id=\"T_bf9dd_row2_col3\" class=\"data row2 col3\" >0.0590</td>\n",
       "      <td id=\"T_bf9dd_row2_col4\" class=\"data row2 col4\" >-0.0079</td>\n",
       "      <td id=\"T_bf9dd_row2_col5\" class=\"data row2 col5\" >-0.0567</td>\n",
       "      <td id=\"T_bf9dd_row2_col6\" class=\"data row2 col6\" >-0.0677</td>\n",
       "      <td id=\"T_bf9dd_row2_col7\" class=\"data row2 col7\" >-0.0047</td>\n",
       "      <td id=\"T_bf9dd_row2_col8\" class=\"data row2 col8\" >-0.0569</td>\n",
       "      <td id=\"T_bf9dd_row2_col9\" class=\"data row2 col9\" >0.0380</td>\n",
       "      <td id=\"T_bf9dd_row2_col10\" class=\"data row2 col10\" >0.0896</td>\n",
       "    </tr>\n",
       "    <tr>\n",
       "      <th id=\"T_bf9dd_level0_row3\" class=\"row_heading level0 row3\" >Advertising</th>\n",
       "      <td id=\"T_bf9dd_row3_col0\" class=\"data row3 col0\" >0.2695</td>\n",
       "      <td id=\"T_bf9dd_row3_col1\" class=\"data row3 col1\" >-0.0242</td>\n",
       "      <td id=\"T_bf9dd_row3_col2\" class=\"data row3 col2\" >0.0590</td>\n",
       "      <td id=\"T_bf9dd_row3_col3\" class=\"data row3 col3\" >1.0000</td>\n",
       "      <td id=\"T_bf9dd_row3_col4\" class=\"data row3 col4\" >0.2657</td>\n",
       "      <td id=\"T_bf9dd_row3_col5\" class=\"data row3 col5\" >0.0445</td>\n",
       "      <td id=\"T_bf9dd_row3_col6\" class=\"data row3 col6\" >0.0085</td>\n",
       "      <td id=\"T_bf9dd_row3_col7\" class=\"data row3 col7\" >-0.0046</td>\n",
       "      <td id=\"T_bf9dd_row3_col8\" class=\"data row3 col8\" >-0.0336</td>\n",
       "      <td id=\"T_bf9dd_row3_col9\" class=\"data row3 col9\" >0.0420</td>\n",
       "      <td id=\"T_bf9dd_row3_col10\" class=\"data row3 col10\" >0.6845</td>\n",
       "    </tr>\n",
       "    <tr>\n",
       "      <th id=\"T_bf9dd_level0_row4\" class=\"row_heading level0 row4\" >Population</th>\n",
       "      <td id=\"T_bf9dd_row4_col0\" class=\"data row4 col0\" >0.0505</td>\n",
       "      <td id=\"T_bf9dd_row4_col1\" class=\"data row4 col1\" >-0.0947</td>\n",
       "      <td id=\"T_bf9dd_row4_col2\" class=\"data row4 col2\" >-0.0079</td>\n",
       "      <td id=\"T_bf9dd_row4_col3\" class=\"data row4 col3\" >0.2657</td>\n",
       "      <td id=\"T_bf9dd_row4_col4\" class=\"data row4 col4\" >1.0000</td>\n",
       "      <td id=\"T_bf9dd_row4_col5\" class=\"data row4 col5\" >-0.0121</td>\n",
       "      <td id=\"T_bf9dd_row4_col6\" class=\"data row4 col6\" >-0.0448</td>\n",
       "      <td id=\"T_bf9dd_row4_col7\" class=\"data row4 col7\" >-0.0427</td>\n",
       "      <td id=\"T_bf9dd_row4_col8\" class=\"data row4 col8\" >-0.1064</td>\n",
       "      <td id=\"T_bf9dd_row4_col9\" class=\"data row4 col9\" >-0.0520</td>\n",
       "      <td id=\"T_bf9dd_row4_col10\" class=\"data row4 col10\" >0.0606</td>\n",
       "    </tr>\n",
       "    <tr>\n",
       "      <th id=\"T_bf9dd_level0_row5\" class=\"row_heading level0 row5\" >Price</th>\n",
       "      <td id=\"T_bf9dd_row5_col0\" class=\"data row5 col0\" >-0.4450</td>\n",
       "      <td id=\"T_bf9dd_row5_col1\" class=\"data row5 col1\" >0.5848</td>\n",
       "      <td id=\"T_bf9dd_row5_col2\" class=\"data row5 col2\" >-0.0567</td>\n",
       "      <td id=\"T_bf9dd_row5_col3\" class=\"data row5 col3\" >0.0445</td>\n",
       "      <td id=\"T_bf9dd_row5_col4\" class=\"data row5 col4\" >-0.0121</td>\n",
       "      <td id=\"T_bf9dd_row5_col5\" class=\"data row5 col5\" >1.0000</td>\n",
       "      <td id=\"T_bf9dd_row5_col6\" class=\"data row5 col6\" >0.0146</td>\n",
       "      <td id=\"T_bf9dd_row5_col7\" class=\"data row5 col7\" >-0.1022</td>\n",
       "      <td id=\"T_bf9dd_row5_col8\" class=\"data row5 col8\" >0.0117</td>\n",
       "      <td id=\"T_bf9dd_row5_col9\" class=\"data row5 col9\" >0.0470</td>\n",
       "      <td id=\"T_bf9dd_row5_col10\" class=\"data row5 col10\" >0.0579</td>\n",
       "    </tr>\n",
       "    <tr>\n",
       "      <th id=\"T_bf9dd_level0_row6\" class=\"row_heading level0 row6\" >ShelveLoc</th>\n",
       "      <td id=\"T_bf9dd_row6_col0\" class=\"data row6 col0\" >0.1575</td>\n",
       "      <td id=\"T_bf9dd_row6_col1\" class=\"data row6 col1\" >0.0233</td>\n",
       "      <td id=\"T_bf9dd_row6_col2\" class=\"data row6 col2\" >-0.0677</td>\n",
       "      <td id=\"T_bf9dd_row6_col3\" class=\"data row6 col3\" >0.0085</td>\n",
       "      <td id=\"T_bf9dd_row6_col4\" class=\"data row6 col4\" >-0.0448</td>\n",
       "      <td id=\"T_bf9dd_row6_col5\" class=\"data row6 col5\" >0.0146</td>\n",
       "      <td id=\"T_bf9dd_row6_col6\" class=\"data row6 col6\" >1.0000</td>\n",
       "      <td id=\"T_bf9dd_row6_col7\" class=\"data row6 col7\" >0.0565</td>\n",
       "      <td id=\"T_bf9dd_row6_col8\" class=\"data row6 col8\" >0.0015</td>\n",
       "      <td id=\"T_bf9dd_row6_col9\" class=\"data row6 col9\" >-0.0640</td>\n",
       "      <td id=\"T_bf9dd_row6_col10\" class=\"data row6 col10\" >-0.0398</td>\n",
       "    </tr>\n",
       "    <tr>\n",
       "      <th id=\"T_bf9dd_level0_row7\" class=\"row_heading level0 row7\" >Age</th>\n",
       "      <td id=\"T_bf9dd_row7_col0\" class=\"data row7 col0\" >-0.2318</td>\n",
       "      <td id=\"T_bf9dd_row7_col1\" class=\"data row7 col1\" >-0.1002</td>\n",
       "      <td id=\"T_bf9dd_row7_col2\" class=\"data row7 col2\" >-0.0047</td>\n",
       "      <td id=\"T_bf9dd_row7_col3\" class=\"data row7 col3\" >-0.0046</td>\n",
       "      <td id=\"T_bf9dd_row7_col4\" class=\"data row7 col4\" >-0.0427</td>\n",
       "      <td id=\"T_bf9dd_row7_col5\" class=\"data row7 col5\" >-0.1022</td>\n",
       "      <td id=\"T_bf9dd_row7_col6\" class=\"data row7 col6\" >0.0565</td>\n",
       "      <td id=\"T_bf9dd_row7_col7\" class=\"data row7 col7\" >1.0000</td>\n",
       "      <td id=\"T_bf9dd_row7_col8\" class=\"data row7 col8\" >0.0065</td>\n",
       "      <td id=\"T_bf9dd_row7_col9\" class=\"data row7 col9\" >0.0285</td>\n",
       "      <td id=\"T_bf9dd_row7_col10\" class=\"data row7 col10\" >0.0087</td>\n",
       "    </tr>\n",
       "    <tr>\n",
       "      <th id=\"T_bf9dd_level0_row8\" class=\"row_heading level0 row8\" >Education</th>\n",
       "      <td id=\"T_bf9dd_row8_col0\" class=\"data row8 col0\" >-0.0520</td>\n",
       "      <td id=\"T_bf9dd_row8_col1\" class=\"data row8 col1\" >0.0252</td>\n",
       "      <td id=\"T_bf9dd_row8_col2\" class=\"data row8 col2\" >-0.0569</td>\n",
       "      <td id=\"T_bf9dd_row8_col3\" class=\"data row8 col3\" >-0.0336</td>\n",
       "      <td id=\"T_bf9dd_row8_col4\" class=\"data row8 col4\" >-0.1064</td>\n",
       "      <td id=\"T_bf9dd_row8_col5\" class=\"data row8 col5\" >0.0117</td>\n",
       "      <td id=\"T_bf9dd_row8_col6\" class=\"data row8 col6\" >0.0015</td>\n",
       "      <td id=\"T_bf9dd_row8_col7\" class=\"data row8 col7\" >0.0065</td>\n",
       "      <td id=\"T_bf9dd_row8_col8\" class=\"data row8 col8\" >1.0000</td>\n",
       "      <td id=\"T_bf9dd_row8_col9\" class=\"data row8 col9\" >-0.0331</td>\n",
       "      <td id=\"T_bf9dd_row8_col10\" class=\"data row8 col10\" >-0.0783</td>\n",
       "    </tr>\n",
       "    <tr>\n",
       "      <th id=\"T_bf9dd_level0_row9\" class=\"row_heading level0 row9\" >Urban</th>\n",
       "      <td id=\"T_bf9dd_row9_col0\" class=\"data row9 col0\" >-0.0154</td>\n",
       "      <td id=\"T_bf9dd_row9_col1\" class=\"data row9 col1\" >0.0666</td>\n",
       "      <td id=\"T_bf9dd_row9_col2\" class=\"data row9 col2\" >0.0380</td>\n",
       "      <td id=\"T_bf9dd_row9_col3\" class=\"data row9 col3\" >0.0420</td>\n",
       "      <td id=\"T_bf9dd_row9_col4\" class=\"data row9 col4\" >-0.0520</td>\n",
       "      <td id=\"T_bf9dd_row9_col5\" class=\"data row9 col5\" >0.0470</td>\n",
       "      <td id=\"T_bf9dd_row9_col6\" class=\"data row9 col6\" >-0.0640</td>\n",
       "      <td id=\"T_bf9dd_row9_col7\" class=\"data row9 col7\" >0.0285</td>\n",
       "      <td id=\"T_bf9dd_row9_col8\" class=\"data row9 col8\" >-0.0331</td>\n",
       "      <td id=\"T_bf9dd_row9_col9\" class=\"data row9 col9\" >1.0000</td>\n",
       "      <td id=\"T_bf9dd_row9_col10\" class=\"data row9 col10\" >0.0471</td>\n",
       "    </tr>\n",
       "    <tr>\n",
       "      <th id=\"T_bf9dd_level0_row10\" class=\"row_heading level0 row10\" >US</th>\n",
       "      <td id=\"T_bf9dd_row10_col0\" class=\"data row10 col0\" >0.1771</td>\n",
       "      <td id=\"T_bf9dd_row10_col1\" class=\"data row10 col1\" >0.0169</td>\n",
       "      <td id=\"T_bf9dd_row10_col2\" class=\"data row10 col2\" >0.0896</td>\n",
       "      <td id=\"T_bf9dd_row10_col3\" class=\"data row10 col3\" >0.6845</td>\n",
       "      <td id=\"T_bf9dd_row10_col4\" class=\"data row10 col4\" >0.0606</td>\n",
       "      <td id=\"T_bf9dd_row10_col5\" class=\"data row10 col5\" >0.0579</td>\n",
       "      <td id=\"T_bf9dd_row10_col6\" class=\"data row10 col6\" >-0.0398</td>\n",
       "      <td id=\"T_bf9dd_row10_col7\" class=\"data row10 col7\" >0.0087</td>\n",
       "      <td id=\"T_bf9dd_row10_col8\" class=\"data row10 col8\" >-0.0783</td>\n",
       "      <td id=\"T_bf9dd_row10_col9\" class=\"data row10 col9\" >0.0471</td>\n",
       "      <td id=\"T_bf9dd_row10_col10\" class=\"data row10 col10\" >1.0000</td>\n",
       "    </tr>\n",
       "  </tbody>\n",
       "</table>\n"
      ],
      "text/plain": [
       "<pandas.io.formats.style.Styler at 0x2a7a6ebc9d0>"
      ]
     },
     "execution_count": 15,
     "metadata": {},
     "output_type": "execute_result"
    }
   ],
   "source": [
    "# Correlation\n",
    "corr=df.corr()\n",
    "corr.style.background_gradient(cmap='coolwarm').set_precision(4)"
   ]
  },
  {
   "cell_type": "code",
   "execution_count": 16,
   "id": "c607d0bb",
   "metadata": {
    "ExecuteTime": {
     "end_time": "2023-01-31T14:32:41.303037Z",
     "start_time": "2023-01-31T14:32:41.291921Z"
    }
   },
   "outputs": [
    {
     "data": {
      "text/plain": [
       "7.496325"
      ]
     },
     "execution_count": 16,
     "metadata": {},
     "output_type": "execute_result"
    }
   ],
   "source": [
    "# Checking average of \"Sales\" column because its target column\n",
    "df['Sales'].mean()"
   ]
  },
  {
   "cell_type": "markdown",
   "id": "7ca2aadb",
   "metadata": {},
   "source": [
    "# Random Forest :\n",
    "- The target column is continious, so we create a class of the value based on the mean\n",
    "    - Less than (<=) 7.49 : \"Small\"  \n",
    "    - Greater than (>=) 7.49 : \"large\""
   ]
  },
  {
   "cell_type": "code",
   "execution_count": 17,
   "id": "0809e998",
   "metadata": {
    "ExecuteTime": {
     "end_time": "2023-01-31T14:32:49.138634Z",
     "start_time": "2023-01-31T14:32:49.124103Z"
    }
   },
   "outputs": [],
   "source": [
    "# Converting \"Sales\" column numerical to categorical\n",
    "df[\"sales\"]=\"small\"\n",
    "df.loc[df[\"Sales\"]>7.49,\"sales\"]=\"large\"\n",
    "df.drop([\"Sales\"],axis=1,inplace=True)"
   ]
  },
  {
   "cell_type": "code",
   "execution_count": 18,
   "id": "6f3b40a6",
   "metadata": {
    "ExecuteTime": {
     "end_time": "2023-01-31T14:32:50.284959Z",
     "start_time": "2023-01-31T14:32:50.270865Z"
    }
   },
   "outputs": [
    {
     "data": {
      "text/plain": [
       "small    201\n",
       "large    199\n",
       "Name: sales, dtype: int64"
      ]
     },
     "execution_count": 18,
     "metadata": {},
     "output_type": "execute_result"
    }
   ],
   "source": [
    "# Unique values from \"Sales\" column\n",
    "df['sales'].value_counts()"
   ]
  },
  {
   "cell_type": "code",
   "execution_count": 20,
   "id": "790d0643",
   "metadata": {
    "ExecuteTime": {
     "end_time": "2023-01-31T14:33:02.710473Z",
     "start_time": "2023-01-31T14:33:02.694068Z"
    }
   },
   "outputs": [],
   "source": [
    "# Creating independent & dependent variables\n",
    "x = df.drop(columns=['sales'])\n",
    "y = df['sales']"
   ]
  },
  {
   "cell_type": "code",
   "execution_count": 21,
   "id": "236735bf",
   "metadata": {
    "ExecuteTime": {
     "end_time": "2023-01-31T14:33:03.841957Z",
     "start_time": "2023-01-31T14:33:03.831959Z"
    }
   },
   "outputs": [
    {
     "name": "stdout",
     "output_type": "stream",
     "text": [
      "Total rows & columns in train set :\n",
      "xtrain dataset :  (320, 10)\n",
      "ytrain dataset :  (320,)\n",
      "Total rows & columns in test set :\n",
      "xtest dataset :  (80, 10)\n",
      "ytest dataset :  (80,)\n"
     ]
    }
   ],
   "source": [
    "# Solitting dataset into train & test sets\n",
    "xtrain,xtest,ytrain,ytest = train_test_split(x,y,test_size=0.2,random_state=1)\n",
    "\n",
    "print(\"Total rows & columns in train set :\")\n",
    "print(\"xtrain dataset : \", xtrain.shape)\n",
    "print(\"ytrain dataset : \", ytrain.shape)\n",
    "\n",
    "print(\"Total rows & columns in test set :\")\n",
    "print(\"xtest dataset : \", xtest.shape)\n",
    "print(\"ytest dataset : \", ytest.shape)"
   ]
  },
  {
   "cell_type": "code",
   "execution_count": 22,
   "id": "43aa42ba",
   "metadata": {
    "ExecuteTime": {
     "end_time": "2023-01-31T14:33:07.030826Z",
     "start_time": "2023-01-31T14:33:07.020143Z"
    }
   },
   "outputs": [
    {
     "data": {
      "text/plain": [
       "small    161\n",
       "large    159\n",
       "Name: sales, dtype: int64"
      ]
     },
     "execution_count": 22,
     "metadata": {},
     "output_type": "execute_result"
    }
   ],
   "source": [
    "ytrain.value_counts()"
   ]
  },
  {
   "cell_type": "markdown",
   "id": "abb89d5b",
   "metadata": {},
   "source": [
    "***Model Building :***"
   ]
  },
  {
   "cell_type": "code",
   "execution_count": 23,
   "id": "f1c0cfe5",
   "metadata": {
    "ExecuteTime": {
     "end_time": "2023-01-31T14:33:09.888608Z",
     "start_time": "2023-01-31T14:33:09.759456Z"
    }
   },
   "outputs": [
    {
     "name": "stdout",
     "output_type": "stream",
     "text": [
      "Train Accuracy :  1.0\n",
      "Test Accuracy :  0.8\n",
      "Classification Report :\n",
      "              precision    recall  f1-score   support\n",
      "\n",
      "       large       0.80      0.80      0.80        40\n",
      "       small       0.80      0.80      0.80        40\n",
      "\n",
      "    accuracy                           0.80        80\n",
      "   macro avg       0.80      0.80      0.80        80\n",
      "weighted avg       0.80      0.80      0.80        80\n",
      "\n"
     ]
    }
   ],
   "source": [
    "model = RandomForestClassifier()\n",
    "model.fit(xtrain,ytrain)\n",
    "ypred = model.predict(xtest)\n",
    "\n",
    "print(\"Train Accuracy : \",model.score(xtrain,ytrain))\n",
    "print(\"Test Accuracy : \",model.score(xtest,ytest))\n",
    "print(\"Classification Report :\")\n",
    "print(classification_report(ytest,ypred))"
   ]
  },
  {
   "cell_type": "code",
   "execution_count": 24,
   "id": "12922331",
   "metadata": {
    "ExecuteTime": {
     "end_time": "2023-01-31T14:33:17.088453Z",
     "start_time": "2023-01-31T14:33:17.053242Z"
    }
   },
   "outputs": [
    {
     "name": "stdout",
     "output_type": "stream",
     "text": [
      "Train Accuracy : 1.0\n"
     ]
    },
    {
     "data": {
      "text/plain": [
       "array([[159,   0],\n",
       "       [  0, 161]], dtype=int64)"
      ]
     },
     "execution_count": 24,
     "metadata": {},
     "output_type": "execute_result"
    }
   ],
   "source": [
    "# Training accuracy\n",
    "pred_train = model.predict(xtrain)\n",
    "print(\"Train Accuracy :\",accuracy_score(ytrain,pred_train))\n",
    "confusion_matrix(ytrain,pred_train)"
   ]
  },
  {
   "cell_type": "code",
   "execution_count": 25,
   "id": "fff0509a",
   "metadata": {
    "ExecuteTime": {
     "end_time": "2023-01-31T14:33:20.606195Z",
     "start_time": "2023-01-31T14:33:20.590474Z"
    }
   },
   "outputs": [
    {
     "name": "stdout",
     "output_type": "stream",
     "text": [
      "Test Accuracy : 0.8\n"
     ]
    },
    {
     "data": {
      "text/plain": [
       "array([[32,  8],\n",
       "       [ 8, 32]], dtype=int64)"
      ]
     },
     "execution_count": 25,
     "metadata": {},
     "output_type": "execute_result"
    }
   ],
   "source": [
    "# Testing accuracy\n",
    "pred_test = model.predict(xtest)\n",
    "print(\"Test Accuracy :\",accuracy_score(ytest,pred_test))\n",
    "confusion_matrix(ytest,pred_test)"
   ]
  },
  {
   "cell_type": "code",
   "execution_count": 30,
   "id": "3be3be22",
   "metadata": {
    "ExecuteTime": {
     "end_time": "2023-01-31T14:36:05.030371Z",
     "start_time": "2023-01-31T14:36:05.016945Z"
    }
   },
   "outputs": [
    {
     "data": {
      "text/html": [
       "<div>\n",
       "<style scoped>\n",
       "    .dataframe tbody tr th:only-of-type {\n",
       "        vertical-align: middle;\n",
       "    }\n",
       "\n",
       "    .dataframe tbody tr th {\n",
       "        vertical-align: top;\n",
       "    }\n",
       "\n",
       "    .dataframe thead th {\n",
       "        text-align: right;\n",
       "    }\n",
       "</style>\n",
       "<table border=\"1\" class=\"dataframe\">\n",
       "  <thead>\n",
       "    <tr style=\"text-align: right;\">\n",
       "      <th></th>\n",
       "      <th>Actual</th>\n",
       "      <th>Predicted</th>\n",
       "    </tr>\n",
       "  </thead>\n",
       "  <tbody>\n",
       "    <tr>\n",
       "      <th>398</th>\n",
       "      <td>small</td>\n",
       "      <td>small</td>\n",
       "    </tr>\n",
       "    <tr>\n",
       "      <th>125</th>\n",
       "      <td>large</td>\n",
       "      <td>large</td>\n",
       "    </tr>\n",
       "    <tr>\n",
       "      <th>328</th>\n",
       "      <td>small</td>\n",
       "      <td>small</td>\n",
       "    </tr>\n",
       "    <tr>\n",
       "      <th>339</th>\n",
       "      <td>large</td>\n",
       "      <td>large</td>\n",
       "    </tr>\n",
       "    <tr>\n",
       "      <th>172</th>\n",
       "      <td>large</td>\n",
       "      <td>large</td>\n",
       "    </tr>\n",
       "    <tr>\n",
       "      <th>...</th>\n",
       "      <td>...</td>\n",
       "      <td>...</td>\n",
       "    </tr>\n",
       "    <tr>\n",
       "      <th>347</th>\n",
       "      <td>small</td>\n",
       "      <td>large</td>\n",
       "    </tr>\n",
       "    <tr>\n",
       "      <th>41</th>\n",
       "      <td>large</td>\n",
       "      <td>small</td>\n",
       "    </tr>\n",
       "    <tr>\n",
       "      <th>180</th>\n",
       "      <td>small</td>\n",
       "      <td>small</td>\n",
       "    </tr>\n",
       "    <tr>\n",
       "      <th>132</th>\n",
       "      <td>large</td>\n",
       "      <td>small</td>\n",
       "    </tr>\n",
       "    <tr>\n",
       "      <th>224</th>\n",
       "      <td>small</td>\n",
       "      <td>small</td>\n",
       "    </tr>\n",
       "  </tbody>\n",
       "</table>\n",
       "<p>80 rows × 2 columns</p>\n",
       "</div>"
      ],
      "text/plain": [
       "    Actual Predicted\n",
       "398  small     small\n",
       "125  large     large\n",
       "328  small     small\n",
       "339  large     large\n",
       "172  large     large\n",
       "..     ...       ...\n",
       "347  small     large\n",
       "41   large     small\n",
       "180  small     small\n",
       "132  large     small\n",
       "224  small     small\n",
       "\n",
       "[80 rows x 2 columns]"
      ]
     },
     "execution_count": 30,
     "metadata": {},
     "output_type": "execute_result"
    }
   ],
   "source": [
    "# Creating dataframe for actual & predicted values\n",
    "df_t=pd.DataFrame({'Actual':ytest, 'Predicted':pred_test})\n",
    "df_t"
   ]
  },
  {
   "cell_type": "code",
   "execution_count": 31,
   "id": "accbaed7",
   "metadata": {
    "ExecuteTime": {
     "end_time": "2023-01-31T14:36:08.919153Z",
     "start_time": "2023-01-31T14:36:08.909933Z"
    }
   },
   "outputs": [
    {
     "data": {
      "text/plain": [
       "['CompPrice',\n",
       " 'Income',\n",
       " 'Advertising',\n",
       " 'Population',\n",
       " 'Price',\n",
       " 'ShelveLoc',\n",
       " 'Age',\n",
       " 'Education',\n",
       " 'Urban',\n",
       " 'US',\n",
       " 'sales']"
      ]
     },
     "execution_count": 31,
     "metadata": {},
     "output_type": "execute_result"
    }
   ],
   "source": [
    "# Creating list of columns\n",
    "cols = list(df.columns)\n",
    "cols"
   ]
  },
  {
   "cell_type": "code",
   "execution_count": 23,
   "id": "0f05c7af",
   "metadata": {
    "ExecuteTime": {
     "end_time": "2023-01-25T13:27:44.943558Z",
     "start_time": "2023-01-25T13:27:44.927551Z"
    }
   },
   "outputs": [],
   "source": [
    "predict = cols[0:10]\n",
    "target = cols[10]"
   ]
  },
  {
   "cell_type": "code",
   "execution_count": 24,
   "id": "706a6b11",
   "metadata": {
    "ExecuteTime": {
     "end_time": "2023-01-25T13:27:44.961213Z",
     "start_time": "2023-01-25T13:27:44.943558Z"
    }
   },
   "outputs": [
    {
     "data": {
      "text/plain": [
       "DecisionTreeClassifier(max_features='auto', random_state=1646786188)"
      ]
     },
     "execution_count": 24,
     "metadata": {},
     "output_type": "execute_result"
    }
   ],
   "source": [
    "tree1 = model.estimators_[20]\n",
    "tree1"
   ]
  },
  {
   "cell_type": "code",
   "execution_count": 25,
   "id": "c2c48957",
   "metadata": {
    "ExecuteTime": {
     "end_time": "2023-01-25T13:27:45.438774Z",
     "start_time": "2023-01-25T13:27:44.961213Z"
    }
   },
   "outputs": [],
   "source": [
    "dot_data = StringIO()\n",
    "\n",
    "export_graphviz(tree1, out_file=dot_data, feature_names=predict, class_names=target,\n",
    "                filled=True, rounded=True, impurity=False, proportion=False, precision=2)\n",
    "graph = pydotplus.graph_from_dot_data(dot_data.getvalue())"
   ]
  },
  {
   "cell_type": "code",
   "execution_count": 26,
   "id": "36a5c8e0",
   "metadata": {
    "ExecuteTime": {
     "end_time": "2023-01-25T13:27:46.228716Z",
     "start_time": "2023-01-25T13:27:45.438774Z"
    }
   },
   "outputs": [
    {
     "data": {
      "text/plain": [
       "True"
      ]
     },
     "execution_count": 26,
     "metadata": {},
     "output_type": "execute_result"
    }
   ],
   "source": [
    "graph.write_png('company_full.png')"
   ]
  },
  {
   "cell_type": "code",
   "execution_count": 27,
   "id": "745c5f40",
   "metadata": {
    "ExecuteTime": {
     "end_time": "2023-01-25T13:27:46.253047Z",
     "start_time": "2023-01-25T13:27:46.228716Z"
    }
   },
   "outputs": [
    {
     "data": {
      "text/plain": [
       "RandomForestClassifier(max_depth=3, n_estimators=10)"
      ]
     },
     "execution_count": 27,
     "metadata": {},
     "output_type": "execute_result"
    }
   ],
   "source": [
    "rf_small = RandomForestClassifier(n_estimators=10,max_depth=3)\n",
    "rf_small.fit(xtrain,ytrain)"
   ]
  },
  {
   "cell_type": "code",
   "execution_count": 28,
   "id": "9418f49c",
   "metadata": {
    "ExecuteTime": {
     "end_time": "2023-01-25T13:27:46.750119Z",
     "start_time": "2023-01-25T13:27:46.253047Z"
    }
   },
   "outputs": [],
   "source": [
    "tree_small = rf_small.estimators_[5]\n",
    "export_graphviz(tree_small, out_file=dot_data, feature_names=predict, rounded=True, precision=1)\n",
    "graph_small = pydotplus.graph_from_dot_data(dot_data.getvalue())"
   ]
  },
  {
   "cell_type": "code",
   "execution_count": 29,
   "id": "0eae87bd",
   "metadata": {
    "ExecuteTime": {
     "end_time": "2023-01-25T13:27:47.234538Z",
     "start_time": "2023-01-25T13:27:46.750119Z"
    }
   },
   "outputs": [
    {
     "data": {
      "text/plain": [
       "True"
      ]
     },
     "execution_count": 29,
     "metadata": {},
     "output_type": "execute_result"
    }
   ],
   "source": [
    "graph.write_png('company_small.png')"
   ]
  },
  {
   "cell_type": "code",
   "execution_count": 30,
   "id": "233bc92f",
   "metadata": {
    "ExecuteTime": {
     "end_time": "2023-01-25T13:27:48.321978Z",
     "start_time": "2023-01-25T13:27:47.234538Z"
    }
   },
   "outputs": [
    {
     "data": {
      "text/plain": [
       "<matplotlib.image.AxesImage at 0x2d1cf94a550>"
      ]
     },
     "execution_count": 30,
     "metadata": {},
     "output_type": "execute_result"
    },
    {
     "data": {
      "image/png": "[encoded data removed]",
      "text/plain": [
       "<Figure size 640x480 with 1 Axes>"
      ]
     },
     "metadata": {},
     "output_type": "display_data"
    }
   ],
   "source": [
    "img = mpimg.imread('company_small.png') \n",
    "plt.imshow(img)"
   ]
  },
  {
   "cell_type": "code",
   "execution_count": 31,
   "id": "7af42a0a",
   "metadata": {
    "ExecuteTime": {
     "end_time": "2023-01-25T13:27:48.350550Z",
     "start_time": "2023-01-25T13:27:48.321978Z"
    }
   },
   "outputs": [
    {
     "data": {
      "text/plain": [
       "array([0.112151  , 0.10411183, 0.10991756, 0.08882624, 0.25362574,\n",
       "       0.11348074, 0.13471253, 0.05060688, 0.01397535, 0.01859213])"
      ]
     },
     "execution_count": 31,
     "metadata": {},
     "output_type": "execute_result"
    }
   ],
   "source": [
    "model.feature_importances_"
   ]
  },
  {
   "cell_type": "code",
   "execution_count": 32,
   "id": "413f81bb",
   "metadata": {
    "ExecuteTime": {
     "end_time": "2023-01-25T13:27:48.381905Z",
     "start_time": "2023-01-25T13:27:48.354653Z"
    }
   },
   "outputs": [
    {
     "data": {
      "text/html": [
       "<div>\n",
       "<style scoped>\n",
       "    .dataframe tbody tr th:only-of-type {\n",
       "        vertical-align: middle;\n",
       "    }\n",
       "\n",
       "    .dataframe tbody tr th {\n",
       "        vertical-align: top;\n",
       "    }\n",
       "\n",
       "    .dataframe thead th {\n",
       "        text-align: right;\n",
       "    }\n",
       "</style>\n",
       "<table border=\"1\" class=\"dataframe\">\n",
       "  <thead>\n",
       "    <tr style=\"text-align: right;\">\n",
       "      <th></th>\n",
       "      <th>feature</th>\n",
       "      <th>importance</th>\n",
       "    </tr>\n",
       "  </thead>\n",
       "  <tbody>\n",
       "    <tr>\n",
       "      <th>4</th>\n",
       "      <td>Price</td>\n",
       "      <td>0.253626</td>\n",
       "    </tr>\n",
       "    <tr>\n",
       "      <th>6</th>\n",
       "      <td>Age</td>\n",
       "      <td>0.134713</td>\n",
       "    </tr>\n",
       "    <tr>\n",
       "      <th>5</th>\n",
       "      <td>ShelveLoc</td>\n",
       "      <td>0.113481</td>\n",
       "    </tr>\n",
       "    <tr>\n",
       "      <th>0</th>\n",
       "      <td>CompPrice</td>\n",
       "      <td>0.112151</td>\n",
       "    </tr>\n",
       "    <tr>\n",
       "      <th>2</th>\n",
       "      <td>Advertising</td>\n",
       "      <td>0.109918</td>\n",
       "    </tr>\n",
       "    <tr>\n",
       "      <th>1</th>\n",
       "      <td>Income</td>\n",
       "      <td>0.104112</td>\n",
       "    </tr>\n",
       "    <tr>\n",
       "      <th>3</th>\n",
       "      <td>Population</td>\n",
       "      <td>0.088826</td>\n",
       "    </tr>\n",
       "    <tr>\n",
       "      <th>7</th>\n",
       "      <td>Education</td>\n",
       "      <td>0.050607</td>\n",
       "    </tr>\n",
       "    <tr>\n",
       "      <th>9</th>\n",
       "      <td>US</td>\n",
       "      <td>0.018592</td>\n",
       "    </tr>\n",
       "    <tr>\n",
       "      <th>8</th>\n",
       "      <td>Urban</td>\n",
       "      <td>0.013975</td>\n",
       "    </tr>\n",
       "  </tbody>\n",
       "</table>\n",
       "</div>"
      ],
      "text/plain": [
       "       feature  importance\n",
       "4        Price    0.253626\n",
       "6          Age    0.134713\n",
       "5    ShelveLoc    0.113481\n",
       "0    CompPrice    0.112151\n",
       "2  Advertising    0.109918\n",
       "1       Income    0.104112\n",
       "3   Population    0.088826\n",
       "7    Education    0.050607\n",
       "9           US    0.018592\n",
       "8        Urban    0.013975"
      ]
     },
     "execution_count": 32,
     "metadata": {},
     "output_type": "execute_result"
    }
   ],
   "source": [
    "feature_importance = pd.DataFrame({'feature': list(xtrain.columns),\n",
    "                   'importance': model.feature_importances_}).\\\n",
    "                    sort_values('importance', ascending = False)\n",
    "feature_importance"
   ]
  },
  {
   "cell_type": "code",
   "execution_count": 33,
   "id": "8743a4a2",
   "metadata": {
    "ExecuteTime": {
     "end_time": "2023-01-25T13:27:48.948761Z",
     "start_time": "2023-01-25T13:27:48.381905Z"
    }
   },
   "outputs": [
    {
     "data": {
      "image/png": "[encoded data removed]",
      "text/plain": [
       "<Figure size 2375x1250 with 1 Axes>"
      ]
     },
     "metadata": {},
     "output_type": "display_data"
    }
   ],
   "source": [
    "# Let's plot the ranking of the features\n",
    "plt.rcParams['figure.dpi'] = 250\n",
    "sns.catplot(data=feature_importance, x='importance', y='feature', aspect=1.9, kind=\"bar\")\n",
    "plt.tight_layout()"
   ]
  },
  {
   "cell_type": "markdown",
   "id": "859ae9bf",
   "metadata": {},
   "source": [
    "# As we seen in above data, the price column is most important feature."
   ]
  }
 ],
 "metadata": {
  "gist": {
   "data": {
    "description": "OneDrive/Desktop/Assignments/Data Science/Random Forests/Random Forest [Company data].ipynb",
    "public": true
   },
   "id": ""
  },
  "kernelspec": {
   "display_name": "Python 3 (ipykernel)",
   "language": "python",
   "name": "python3"
  },
  "language_info": {
   "codemirror_mode": {
    "name": "ipython",
    "version": 3
   },
   "file_extension": ".py",
   "mimetype": "text/x-python",
   "name": "python",
   "nbconvert_exporter": "python",
   "pygments_lexer": "ipython3",
   "version": "3.9.13"
  }
 },
 "nbformat": 4,
 "nbformat_minor": 5
}
